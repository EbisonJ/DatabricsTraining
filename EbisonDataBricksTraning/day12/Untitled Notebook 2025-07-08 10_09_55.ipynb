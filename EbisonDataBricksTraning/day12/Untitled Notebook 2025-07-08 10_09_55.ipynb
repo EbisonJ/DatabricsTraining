{
 "cells": [
  {
   "cell_type": "code",
   "execution_count": 0,
   "metadata": {
    "application/vnd.databricks.v1+cell": {
     "cellMetadata": {},
     "inputWidgets": {},
     "nuid": "46d12b7d-f73e-42da-8a0c-9fe21f9b3d50",
     "showTitle": false,
     "tableResultSettingsMap": {},
     "title": ""
    }
   },
   "outputs": [],
   "source": [
    "from pyspark.sql.types import DoubleType, StringType, StructType, StructField\n",
    " \n",
    "schema = StructType([\n",
    "  StructField(\"longitude\", DoubleType(), True),\n",
    "  StructField(\"latitude\", DoubleType(), True),\n",
    "  StructField(\"housing_median_age\", DoubleType(), True),\n",
    "  StructField(\"total_rooms\", DoubleType(), True),\n",
    "  StructField(\"total_bedrooms\", DoubleType(), True),\n",
    "  StructField(\"population\", DoubleType(), True),\n",
    "  StructField(\"households\", DoubleType(), True),\n",
    "  StructField(\"median_income\", DoubleType(), True),\n",
    "  StructField(\"median_house_value\", DoubleType(), True),\n",
    "  StructField(\"ocean_proximity\", StringType(), True)\n",
    "])\n",
    " \n",
    "housing_df = spark.read.format(\"csv\").schema(schema).option(\"header\", \"true\").load(\"/Volumes/saas/naval/raw/housing.csv\")"
   ]
  },
  {
   "cell_type": "code",
   "execution_count": 0,
   "metadata": {
    "application/vnd.databricks.v1+cell": {
     "cellMetadata": {},
     "inputWidgets": {},
     "nuid": "b7a29cb0-783e-4460-9f2f-424238cd714c",
     "showTitle": false,
     "tableResultSettingsMap": {},
     "title": ""
    }
   },
   "outputs": [],
   "source": [
    "housing_df.write.mode(\"overwrite\").saveAsTable(\"saas.ebison_silver.housing\")"
   ]
  },
  {
   "cell_type": "code",
   "execution_count": 0,
   "metadata": {
    "application/vnd.databricks.v1+cell": {
     "cellMetadata": {},
     "inputWidgets": {},
     "nuid": "00a2c834-11ce-4354-af73-b07ab0e1542d",
     "showTitle": false,
     "tableResultSettingsMap": {},
     "title": ""
    }
   },
   "outputs": [],
   "source": [
    "housing_df.write.mode(\"overwrite\").saveAsTable(\"hive_metastore.default.housing\")"
   ]
  }
 ],
 "metadata": {
  "application/vnd.databricks.v1+notebook": {
   "computePreferences": null,
   "dashboards": [],
   "environmentMetadata": {
    "base_environment": "",
    "environment_version": "2"
   },
   "inputWidgetPreferences": null,
   "language": "python",
   "notebookMetadata": {
    "pythonIndentUnit": 4
   },
   "notebookName": "Untitled Notebook 2025-07-08 10_09_55",
   "widgets": {}
  },
  "language_info": {
   "name": "python"
  }
 },
 "nbformat": 4,
 "nbformat_minor": 0
}
