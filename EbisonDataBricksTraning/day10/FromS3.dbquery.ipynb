{
 "cells": [
  {
   "cell_type": "code",
   "execution_count": 0,
   "metadata": {
    "application/vnd.databricks.v1+cell": {
     "cellMetadata": {
      "byteLimit": 10485760,
      "rowLimit": 1000
     },
     "inputWidgets": {},
     "nuid": "50749e85-4090-4cb8-bdea-5910d0c17655",
     "showTitle": false,
     "tableResultSettingsMap": {},
     "title": ""
    }
   },
   "outputs": [],
   "source": [
    "create table ad_clicks as\n",
    "select * from read_files('s3://jpmctraining/input/auto_marketing_ad_clicks.csv', format=>\"csv\");\n",
    "create table ad_campaign as\n",
    "select * from read_files('s3://jpmctraining/input/auto_marketing_campaigns.csv', format=>\"csv\");\n",
    "create table ad_leads as\n",
    "select * from read_files('s3://jpmctraining/input/auto_marketing_leads.csv', format=>\"csv\");\n",
    "create table ad_users as\n",
    "select * from read_files('s3://jpmctraining/input/auto_marketing_users.csv' , format=>\"csv\");\n",
    "create table bookings as\n",
    "select * from read_files('s3://jpmctraining/input/auto_marketing_bookings.csv' , format=>\"csv\");\n",
    "auto_marketing_bookings.csv\n",
    "auto_marketing_campaigns.csv\n",
    "auto_marketing_leads.csv\n",
    "auto_marketing_users.csv\n",
    "\n",
    "\n",
    "select * from ad_clicks;\n",
    "select * from ad_campaign;\n",
    "select * from ad_leads;\n",
    "select * from ad_users;\n",
    "\n",
    "describe extended ad_clicks;\n",
    "\n",
    "\n",
    "select * from read_files('s3://jpmctraining/input/' || :filename, format=>'csv');"
   ]
  }
 ],
 "metadata": {
  "application/vnd.databricks.v1+notebook": {
   "computePreferences": null,
   "dashboards": [],
   "environmentMetadata": null,
   "inputWidgetPreferences": null,
   "language": "sql",
   "notebookMetadata": {
    "sqlQueryOptions": {
     "applyAutoLimit": true,
     "catalog": "saas",
     "schema": "ebison_bronze"
    }
   },
   "notebookName": "FromS3.dbquery.ipynb",
   "widgets": {
    "filename": {
     "currentValue": "auto_marketing_campaigns.csv",
     "nuid": "26b85379-59c3-45a8-b6c8-5616e21d0161",
     "typedWidgetInfo": {
      "autoCreated": true,
      "defaultValue": "",
      "label": null,
      "name": "filename",
      "options": {
       "widgetDisplayType": "Text",
       "validationRegex": null
      },
      "parameterDataType": "String"
     },
     "widgetInfo": {
      "widgetType": "text",
      "defaultValue": "",
      "label": null,
      "name": "filename",
      "options": {
       "widgetType": "text",
       "autoCreated": true,
       "validationRegex": null
      }
     }
    }
   }
  },
  "language_info": {
   "name": "sql"
  }
 },
 "nbformat": 4,
 "nbformat_minor": 0
}
